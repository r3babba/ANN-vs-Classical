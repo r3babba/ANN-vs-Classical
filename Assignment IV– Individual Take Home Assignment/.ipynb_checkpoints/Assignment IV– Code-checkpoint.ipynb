{
 "cells": [
  {
   "cell_type": "markdown",
   "metadata": {},
   "source": [
    "<h1>Assignment IV– Individual Take Home Assignment</h1>"
   ]
  },
  {
   "cell_type": "markdown",
   "metadata": {},
   "source": [
    "<h3>1. ANN regression model</h3>"
   ]
  },
  {
   "cell_type": "code",
   "execution_count": 12,
   "metadata": {},
   "outputs": [],
   "source": [
    "#import libraries \n",
    "\n",
    "import numpy as np\n",
    "import pandas as pd\n",
    "\n",
    "from sklearn.model_selection import train_test_split\n",
    "from sklearn.model_selection import cross_val_score\n",
    "from sklearn.model_selection import KFold\n",
    "from sklearn.pipeline import Pipeline\n",
    "from sklearn.preprocessing import MinMaxScaler\n",
    "from sklearn.metrics import mean_squared_error\n",
    "\n",
    "from tensorflow.python.keras.models import Sequential\n",
    "from tensorflow.python.keras.layers import Dense\n",
    "from tensorflow.python.keras.wrappers.scikit_learn import KerasRegressor\n",
    "\n",
    "import matplotlib.pyplot as plt\n",
    "import seaborn as sns\n",
    "%matplotlib inline\n",
    "\n",
    "import time"
   ]
  },
  {
   "cell_type": "code",
   "execution_count": 13,
   "metadata": {},
   "outputs": [
    {
     "name": "stdout",
     "output_type": "stream",
     "text": [
      "MinMaxScaler(copy=True, feature_range=(0, 1))\n",
      "MinMaxScaler(copy=True, feature_range=(0, 1))\n"
     ]
    }
   ],
   "source": [
    "#Import Variables & standardize\n",
    "dataset=np.loadtxt(\"data/school_grades.csv\", delimiter=\",\", skiprows=1)\n",
    "x=dataset[:,0:4]\n",
    "y=dataset[:,4]\n",
    "y=np.reshape(y, (-1,1))\n",
    "scaler_x = MinMaxScaler()\n",
    "scaler_y = MinMaxScaler()\n",
    "print(scaler_x.fit(x))\n",
    "xscale=scaler_x.transform(x)\n",
    "print(scaler_y.fit(y))\n",
    "yscale=scaler_y.transform(y)"
   ]
  },
  {
   "cell_type": "code",
   "execution_count": 14,
   "metadata": {},
   "outputs": [],
   "source": [
    "#Split data into train & test\n",
    "X_train, X_test, y_train, y_test = train_test_split(xscale, yscale)"
   ]
  },
  {
   "cell_type": "code",
   "execution_count": 15,
   "metadata": {},
   "outputs": [
    {
     "name": "stdout",
     "output_type": "stream",
     "text": [
      "Model: \"sequential_1\"\n",
      "_________________________________________________________________\n",
      "Layer (type)                 Output Shape              Param #   \n",
      "=================================================================\n",
      "dense_3 (Dense)              (None, 12)                60        \n",
      "_________________________________________________________________\n",
      "dense_4 (Dense)              (None, 8)                 104       \n",
      "_________________________________________________________________\n",
      "dense_5 (Dense)              (None, 1)                 9         \n",
      "=================================================================\n",
      "Total params: 173\n",
      "Trainable params: 173\n",
      "Non-trainable params: 0\n",
      "_________________________________________________________________\n"
     ]
    }
   ],
   "source": [
    "#defining a 3 layer deep NN [12,8,1]\n",
    "model = Sequential()\n",
    "model.add(Dense(12, input_dim=4, kernel_initializer='normal', activation='relu'))\n",
    "model.add(Dense(8, activation='relu'))\n",
    "model.add(Dense(1, activation='linear'))\n",
    "model.summary()"
   ]
  },
  {
   "cell_type": "code",
   "execution_count": 16,
   "metadata": {},
   "outputs": [],
   "source": [
    "#The mean_squared_error (mse) and mean_absolute_error (mae) are our loss functions – i.e. an estimate of how accurate the neural network is in predicting the test data. \n",
    "model.compile(loss='mse', optimizer='adam', metrics=['mse','mae'])"
   ]
  },
  {
   "cell_type": "code",
   "execution_count": 17,
   "metadata": {},
   "outputs": [
    {
     "name": "stdout",
     "output_type": "stream",
     "text": [
      "Train on 236 samples, validate on 60 samples\n",
      "Epoch 1/150\n",
      "236/236 [==============================] - 0s 826us/sample - loss: 0.2928 - mse: 0.2928 - mae: 0.4997 - val_loss: 0.2654 - val_mse: 0.2654 - val_mae: 0.4541\n",
      "Epoch 2/150\n",
      "236/236 [==============================] - 0s 38us/sample - loss: 0.2488 - mse: 0.2488 - mae: 0.4617 - val_loss: 0.2205 - val_mse: 0.2205 - val_mae: 0.4156\n",
      "Epoch 3/150\n",
      "236/236 [==============================] - 0s 47us/sample - loss: 0.2016 - mse: 0.2016 - mae: 0.4157 - val_loss: 0.1757 - val_mse: 0.1757 - val_mae: 0.3716\n",
      "Epoch 4/150\n",
      "236/236 [==============================] - 0s 51us/sample - loss: 0.1558 - mse: 0.1558 - mae: 0.3654 - val_loss: 0.1340 - val_mse: 0.1340 - val_mae: 0.3234\n",
      "Epoch 5/150\n",
      "236/236 [==============================] - 0s 51us/sample - loss: 0.1148 - mse: 0.1148 - mae: 0.3116 - val_loss: 0.0996 - val_mse: 0.0996 - val_mae: 0.2757\n",
      "Epoch 6/150\n",
      "236/236 [==============================] - 0s 55us/sample - loss: 0.0813 - mse: 0.0813 - mae: 0.2569 - val_loss: 0.0736 - val_mse: 0.0736 - val_mae: 0.2322\n",
      "Epoch 7/150\n",
      "236/236 [==============================] - 0s 51us/sample - loss: 0.0568 - mse: 0.0568 - mae: 0.2085 - val_loss: 0.0566 - val_mse: 0.0566 - val_mae: 0.1965\n",
      "Epoch 8/150\n",
      "236/236 [==============================] - 0s 55us/sample - loss: 0.0407 - mse: 0.0407 - mae: 0.1672 - val_loss: 0.0473 - val_mse: 0.0473 - val_mae: 0.1728\n",
      "Epoch 9/150\n",
      "236/236 [==============================] - 0s 59us/sample - loss: 0.0310 - mse: 0.0310 - mae: 0.1372 - val_loss: 0.0434 - val_mse: 0.0434 - val_mae: 0.1562\n",
      "Epoch 10/150\n",
      "236/236 [==============================] - 0s 51us/sample - loss: 0.0273 - mse: 0.0273 - mae: 0.1233 - val_loss: 0.0422 - val_mse: 0.0422 - val_mae: 0.1492\n",
      "Epoch 11/150\n",
      "236/236 [==============================] - 0s 51us/sample - loss: 0.0255 - mse: 0.0255 - mae: 0.1148 - val_loss: 0.0415 - val_mse: 0.0415 - val_mae: 0.1458\n",
      "Epoch 12/150\n",
      "236/236 [==============================] - 0s 47us/sample - loss: 0.0246 - mse: 0.0246 - mae: 0.1109 - val_loss: 0.0406 - val_mse: 0.0406 - val_mae: 0.1430\n",
      "Epoch 13/150\n",
      "236/236 [==============================] - 0s 47us/sample - loss: 0.0237 - mse: 0.0237 - mae: 0.1078 - val_loss: 0.0390 - val_mse: 0.0390 - val_mae: 0.1393\n",
      "Epoch 14/150\n",
      "236/236 [==============================] - 0s 47us/sample - loss: 0.0225 - mse: 0.0225 - mae: 0.1051 - val_loss: 0.0373 - val_mse: 0.0373 - val_mae: 0.1360\n",
      "Epoch 15/150\n",
      "236/236 [==============================] - 0s 51us/sample - loss: 0.0215 - mse: 0.0215 - mae: 0.1032 - val_loss: 0.0357 - val_mse: 0.0357 - val_mae: 0.1330\n",
      "Epoch 16/150\n",
      "236/236 [==============================] - 0s 47us/sample - loss: 0.0206 - mse: 0.0206 - mae: 0.1012 - val_loss: 0.0343 - val_mse: 0.0343 - val_mae: 0.1304\n",
      "Epoch 17/150\n",
      "236/236 [==============================] - 0s 51us/sample - loss: 0.0196 - mse: 0.0196 - mae: 0.0986 - val_loss: 0.0331 - val_mse: 0.0331 - val_mae: 0.1274\n",
      "Epoch 18/150\n",
      "236/236 [==============================] - 0s 47us/sample - loss: 0.0187 - mse: 0.0187 - mae: 0.0955 - val_loss: 0.0321 - val_mse: 0.0321 - val_mae: 0.1242\n",
      "Epoch 19/150\n",
      "236/236 [==============================] - 0s 47us/sample - loss: 0.0177 - mse: 0.0177 - mae: 0.0922 - val_loss: 0.0311 - val_mse: 0.0311 - val_mae: 0.1211\n",
      "Epoch 20/150\n",
      "236/236 [==============================] - 0s 47us/sample - loss: 0.0168 - mse: 0.0168 - mae: 0.0890 - val_loss: 0.0302 - val_mse: 0.0302 - val_mae: 0.1181\n",
      "Epoch 21/150\n",
      "236/236 [==============================] - 0s 59us/sample - loss: 0.0159 - mse: 0.0159 - mae: 0.0860 - val_loss: 0.0290 - val_mse: 0.0290 - val_mae: 0.1148\n",
      "Epoch 22/150\n",
      "236/236 [==============================] - 0s 64us/sample - loss: 0.0151 - mse: 0.0151 - mae: 0.0835 - val_loss: 0.0276 - val_mse: 0.0276 - val_mae: 0.1117\n",
      "Epoch 23/150\n",
      "236/236 [==============================] - 0s 85us/sample - loss: 0.0141 - mse: 0.0141 - mae: 0.0803 - val_loss: 0.0265 - val_mse: 0.0265 - val_mae: 0.1086\n",
      "Epoch 24/150\n",
      "236/236 [==============================] - 0s 64us/sample - loss: 0.0133 - mse: 0.0133 - mae: 0.0781 - val_loss: 0.0254 - val_mse: 0.0254 - val_mae: 0.1060\n",
      "Epoch 25/150\n",
      "236/236 [==============================] - 0s 64us/sample - loss: 0.0126 - mse: 0.0126 - mae: 0.0757 - val_loss: 0.0245 - val_mse: 0.0245 - val_mae: 0.1030\n",
      "Epoch 26/150\n",
      "236/236 [==============================] - 0s 51us/sample - loss: 0.0120 - mse: 0.0120 - mae: 0.0737 - val_loss: 0.0238 - val_mse: 0.0238 - val_mae: 0.0997\n",
      "Epoch 27/150\n",
      "236/236 [==============================] - 0s 51us/sample - loss: 0.0114 - mse: 0.0114 - mae: 0.0719 - val_loss: 0.0229 - val_mse: 0.0229 - val_mae: 0.0969\n",
      "Epoch 28/150\n",
      "236/236 [==============================] - 0s 59us/sample - loss: 0.0109 - mse: 0.0109 - mae: 0.0705 - val_loss: 0.0221 - val_mse: 0.0221 - val_mae: 0.0943\n",
      "Epoch 29/150\n",
      "236/236 [==============================] - 0s 55us/sample - loss: 0.0105 - mse: 0.0105 - mae: 0.0695 - val_loss: 0.0215 - val_mse: 0.0215 - val_mae: 0.0920\n",
      "Epoch 30/150\n",
      "236/236 [==============================] - 0s 55us/sample - loss: 0.0101 - mse: 0.0101 - mae: 0.0683 - val_loss: 0.0209 - val_mse: 0.0209 - val_mae: 0.0902\n",
      "Epoch 31/150\n",
      "236/236 [==============================] - 0s 42us/sample - loss: 0.0098 - mse: 0.0098 - mae: 0.0674 - val_loss: 0.0205 - val_mse: 0.0205 - val_mae: 0.0884\n",
      "Epoch 32/150\n",
      "236/236 [==============================] - 0s 47us/sample - loss: 0.0096 - mse: 0.0096 - mae: 0.0666 - val_loss: 0.0200 - val_mse: 0.0200 - val_mae: 0.0873\n",
      "Epoch 33/150\n",
      "236/236 [==============================] - 0s 47us/sample - loss: 0.0093 - mse: 0.0093 - mae: 0.0662 - val_loss: 0.0195 - val_mse: 0.0195 - val_mae: 0.0864\n",
      "Epoch 34/150\n",
      "236/236 [==============================] - 0s 42us/sample - loss: 0.0092 - mse: 0.0092 - mae: 0.0662 - val_loss: 0.0191 - val_mse: 0.0191 - val_mae: 0.0854\n",
      "Epoch 35/150\n",
      "236/236 [==============================] - 0s 51us/sample - loss: 0.0090 - mse: 0.0090 - mae: 0.0657 - val_loss: 0.0189 - val_mse: 0.0189 - val_mae: 0.0841\n",
      "Epoch 36/150\n",
      "236/236 [==============================] - 0s 51us/sample - loss: 0.0089 - mse: 0.0089 - mae: 0.0658 - val_loss: 0.0184 - val_mse: 0.0184 - val_mae: 0.0838\n",
      "Epoch 37/150\n",
      "236/236 [==============================] - 0s 51us/sample - loss: 0.0088 - mse: 0.0088 - mae: 0.0653 - val_loss: 0.0185 - val_mse: 0.0185 - val_mae: 0.0822\n",
      "Epoch 38/150\n",
      "236/236 [==============================] - 0s 55us/sample - loss: 0.0086 - mse: 0.0086 - mae: 0.0648 - val_loss: 0.0181 - val_mse: 0.0181 - val_mae: 0.0818\n",
      "Epoch 39/150\n",
      "236/236 [==============================] - 0s 47us/sample - loss: 0.0085 - mse: 0.0085 - mae: 0.0649 - val_loss: 0.0178 - val_mse: 0.0178 - val_mae: 0.0818\n",
      "Epoch 40/150\n",
      "236/236 [==============================] - 0s 38us/sample - loss: 0.0085 - mse: 0.0085 - mae: 0.0647 - val_loss: 0.0178 - val_mse: 0.0178 - val_mae: 0.0808\n",
      "Epoch 41/150\n",
      "236/236 [==============================] - 0s 42us/sample - loss: 0.0084 - mse: 0.0084 - mae: 0.0643 - val_loss: 0.0176 - val_mse: 0.0176 - val_mae: 0.0805\n",
      "Epoch 42/150\n",
      "236/236 [==============================] - 0s 42us/sample - loss: 0.0083 - mse: 0.0083 - mae: 0.0643 - val_loss: 0.0174 - val_mse: 0.0174 - val_mae: 0.0803\n",
      "Epoch 43/150\n",
      "236/236 [==============================] - 0s 42us/sample - loss: 0.0083 - mse: 0.0083 - mae: 0.0645 - val_loss: 0.0172 - val_mse: 0.0172 - val_mae: 0.0803\n",
      "Epoch 44/150\n",
      "236/236 [==============================] - 0s 47us/sample - loss: 0.0082 - mse: 0.0082 - mae: 0.0641 - val_loss: 0.0173 - val_mse: 0.0173 - val_mae: 0.0794\n",
      "Epoch 45/150\n",
      "236/236 [==============================] - 0s 42us/sample - loss: 0.0081 - mse: 0.0081 - mae: 0.0636 - val_loss: 0.0172 - val_mse: 0.0172 - val_mae: 0.0790\n",
      "Epoch 46/150\n",
      "236/236 [==============================] - 0s 38us/sample - loss: 0.0081 - mse: 0.0081 - mae: 0.0634 - val_loss: 0.0171 - val_mse: 0.0171 - val_mae: 0.0787\n",
      "Epoch 47/150\n",
      "236/236 [==============================] - 0s 42us/sample - loss: 0.0080 - mse: 0.0080 - mae: 0.0631 - val_loss: 0.0170 - val_mse: 0.0170 - val_mae: 0.0784\n",
      "Epoch 48/150\n",
      "236/236 [==============================] - 0s 38us/sample - loss: 0.0080 - mse: 0.0080 - mae: 0.0630 - val_loss: 0.0169 - val_mse: 0.0169 - val_mae: 0.0784\n",
      "Epoch 49/150\n"
     ]
    },
    {
     "name": "stdout",
     "output_type": "stream",
     "text": [
      "236/236 [==============================] - 0s 42us/sample - loss: 0.0079 - mse: 0.0079 - mae: 0.0631 - val_loss: 0.0168 - val_mse: 0.0168 - val_mae: 0.0782\n",
      "Epoch 50/150\n",
      "236/236 [==============================] - 0s 34us/sample - loss: 0.0079 - mse: 0.0079 - mae: 0.0628 - val_loss: 0.0169 - val_mse: 0.0169 - val_mae: 0.0775\n",
      "Epoch 51/150\n",
      "236/236 [==============================] - 0s 42us/sample - loss: 0.0078 - mse: 0.0078 - mae: 0.0623 - val_loss: 0.0167 - val_mse: 0.0167 - val_mae: 0.0775\n",
      "Epoch 52/150\n",
      "236/236 [==============================] - 0s 34us/sample - loss: 0.0078 - mse: 0.0078 - mae: 0.0629 - val_loss: 0.0165 - val_mse: 0.0165 - val_mae: 0.0780\n",
      "Epoch 53/150\n",
      "236/236 [==============================] - 0s 42us/sample - loss: 0.0077 - mse: 0.0077 - mae: 0.0624 - val_loss: 0.0168 - val_mse: 0.0168 - val_mae: 0.0767\n",
      "Epoch 54/150\n",
      "236/236 [==============================] - 0s 38us/sample - loss: 0.0077 - mse: 0.0077 - mae: 0.0615 - val_loss: 0.0168 - val_mse: 0.0168 - val_mae: 0.0764\n",
      "Epoch 55/150\n",
      "236/236 [==============================] - 0s 42us/sample - loss: 0.0077 - mse: 0.0077 - mae: 0.0615 - val_loss: 0.0165 - val_mse: 0.0165 - val_mae: 0.0767\n",
      "Epoch 56/150\n",
      "236/236 [==============================] - 0s 42us/sample - loss: 0.0076 - mse: 0.0076 - mae: 0.0616 - val_loss: 0.0164 - val_mse: 0.0164 - val_mae: 0.0767\n",
      "Epoch 57/150\n",
      "236/236 [==============================] - 0s 47us/sample - loss: 0.0076 - mse: 0.0076 - mae: 0.0616 - val_loss: 0.0164 - val_mse: 0.0164 - val_mae: 0.0764\n",
      "Epoch 58/150\n",
      "236/236 [==============================] - 0s 38us/sample - loss: 0.0075 - mse: 0.0075 - mae: 0.0609 - val_loss: 0.0167 - val_mse: 0.0167 - val_mae: 0.0756\n",
      "Epoch 59/150\n",
      "236/236 [==============================] - 0s 38us/sample - loss: 0.0075 - mse: 0.0075 - mae: 0.0607 - val_loss: 0.0166 - val_mse: 0.0166 - val_mae: 0.0755\n",
      "Epoch 60/150\n",
      "236/236 [==============================] - 0s 38us/sample - loss: 0.0075 - mse: 0.0075 - mae: 0.0605 - val_loss: 0.0165 - val_mse: 0.0165 - val_mae: 0.0756\n",
      "Epoch 61/150\n",
      "236/236 [==============================] - 0s 38us/sample - loss: 0.0075 - mse: 0.0075 - mae: 0.0603 - val_loss: 0.0164 - val_mse: 0.0164 - val_mae: 0.0755\n",
      "Epoch 62/150\n",
      "236/236 [==============================] - 0s 38us/sample - loss: 0.0074 - mse: 0.0074 - mae: 0.0602 - val_loss: 0.0163 - val_mse: 0.0163 - val_mae: 0.0756\n",
      "Epoch 63/150\n",
      "236/236 [==============================] - 0s 38us/sample - loss: 0.0074 - mse: 0.0074 - mae: 0.0600 - val_loss: 0.0164 - val_mse: 0.0164 - val_mae: 0.0752\n",
      "Epoch 64/150\n",
      "236/236 [==============================] - 0s 42us/sample - loss: 0.0074 - mse: 0.0074 - mae: 0.0599 - val_loss: 0.0163 - val_mse: 0.0163 - val_mae: 0.0752\n",
      "Epoch 65/150\n",
      "236/236 [==============================] - 0s 34us/sample - loss: 0.0074 - mse: 0.0074 - mae: 0.0596 - val_loss: 0.0165 - val_mse: 0.0165 - val_mae: 0.0746\n",
      "Epoch 66/150\n",
      "236/236 [==============================] - 0s 38us/sample - loss: 0.0074 - mse: 0.0074 - mae: 0.0599 - val_loss: 0.0161 - val_mse: 0.0161 - val_mae: 0.0755\n",
      "Epoch 67/150\n",
      "236/236 [==============================] - 0s 38us/sample - loss: 0.0073 - mse: 0.0073 - mae: 0.0596 - val_loss: 0.0163 - val_mse: 0.0163 - val_mae: 0.0746\n",
      "Epoch 68/150\n",
      "236/236 [==============================] - 0s 42us/sample - loss: 0.0073 - mse: 0.0073 - mae: 0.0591 - val_loss: 0.0165 - val_mse: 0.0165 - val_mae: 0.0741\n",
      "Epoch 69/150\n",
      "236/236 [==============================] - 0s 42us/sample - loss: 0.0073 - mse: 0.0073 - mae: 0.0591 - val_loss: 0.0161 - val_mse: 0.0161 - val_mae: 0.0748\n",
      "Epoch 70/150\n",
      "236/236 [==============================] - 0s 42us/sample - loss: 0.0072 - mse: 0.0072 - mae: 0.0592 - val_loss: 0.0160 - val_mse: 0.0160 - val_mae: 0.0749\n",
      "Epoch 71/150\n",
      "236/236 [==============================] - 0s 42us/sample - loss: 0.0072 - mse: 0.0072 - mae: 0.0590 - val_loss: 0.0161 - val_mse: 0.0161 - val_mae: 0.0743\n",
      "Epoch 72/150\n",
      "236/236 [==============================] - 0s 34us/sample - loss: 0.0072 - mse: 0.0072 - mae: 0.0587 - val_loss: 0.0160 - val_mse: 0.0160 - val_mae: 0.0744\n",
      "Epoch 73/150\n",
      "236/236 [==============================] - 0s 38us/sample - loss: 0.0072 - mse: 0.0072 - mae: 0.0586 - val_loss: 0.0162 - val_mse: 0.0162 - val_mae: 0.0739\n",
      "Epoch 74/150\n",
      "236/236 [==============================] - 0s 38us/sample - loss: 0.0071 - mse: 0.0071 - mae: 0.0585 - val_loss: 0.0159 - val_mse: 0.0159 - val_mae: 0.0744\n",
      "Epoch 75/150\n",
      "236/236 [==============================] - 0s 47us/sample - loss: 0.0071 - mse: 0.0071 - mae: 0.0582 - val_loss: 0.0161 - val_mse: 0.0161 - val_mae: 0.0738\n",
      "Epoch 76/150\n",
      "236/236 [==============================] - 0s 38us/sample - loss: 0.0071 - mse: 0.0071 - mae: 0.0580 - val_loss: 0.0161 - val_mse: 0.0161 - val_mae: 0.0737\n",
      "Epoch 77/150\n",
      "236/236 [==============================] - 0s 42us/sample - loss: 0.0071 - mse: 0.0071 - mae: 0.0578 - val_loss: 0.0159 - val_mse: 0.0159 - val_mae: 0.0739\n",
      "Epoch 78/150\n",
      "236/236 [==============================] - 0s 42us/sample - loss: 0.0070 - mse: 0.0070 - mae: 0.0580 - val_loss: 0.0159 - val_mse: 0.0159 - val_mae: 0.0737\n",
      "Epoch 79/150\n",
      "236/236 [==============================] - 0s 38us/sample - loss: 0.0070 - mse: 0.0070 - mae: 0.0578 - val_loss: 0.0160 - val_mse: 0.0160 - val_mae: 0.0735\n",
      "Epoch 80/150\n",
      "236/236 [==============================] - 0s 38us/sample - loss: 0.0070 - mse: 0.0070 - mae: 0.0574 - val_loss: 0.0162 - val_mse: 0.0162 - val_mae: 0.0730\n",
      "Epoch 81/150\n",
      "236/236 [==============================] - 0s 42us/sample - loss: 0.0070 - mse: 0.0070 - mae: 0.0571 - val_loss: 0.0161 - val_mse: 0.0161 - val_mae: 0.0731\n",
      "Epoch 82/150\n",
      "236/236 [==============================] - 0s 38us/sample - loss: 0.0069 - mse: 0.0069 - mae: 0.0572 - val_loss: 0.0158 - val_mse: 0.0158 - val_mae: 0.0736\n",
      "Epoch 83/150\n",
      "236/236 [==============================] - 0s 38us/sample - loss: 0.0070 - mse: 0.0070 - mae: 0.0577 - val_loss: 0.0157 - val_mse: 0.0157 - val_mae: 0.0736\n",
      "Epoch 84/150\n",
      "236/236 [==============================] - 0s 38us/sample - loss: 0.0069 - mse: 0.0069 - mae: 0.0570 - val_loss: 0.0161 - val_mse: 0.0161 - val_mae: 0.0728\n",
      "Epoch 85/150\n",
      "236/236 [==============================] - 0s 38us/sample - loss: 0.0070 - mse: 0.0070 - mae: 0.0567 - val_loss: 0.0163 - val_mse: 0.0163 - val_mae: 0.0726\n",
      "Epoch 86/150\n",
      "236/236 [==============================] - 0s 38us/sample - loss: 0.0069 - mse: 0.0069 - mae: 0.0573 - val_loss: 0.0156 - val_mse: 0.0156 - val_mae: 0.0737\n",
      "Epoch 87/150\n",
      "236/236 [==============================] - 0s 34us/sample - loss: 0.0069 - mse: 0.0069 - mae: 0.0572 - val_loss: 0.0157 - val_mse: 0.0157 - val_mae: 0.0732\n",
      "Epoch 88/150\n",
      "236/236 [==============================] - 0s 38us/sample - loss: 0.0069 - mse: 0.0069 - mae: 0.0565 - val_loss: 0.0162 - val_mse: 0.0162 - val_mae: 0.0724\n",
      "Epoch 89/150\n",
      "236/236 [==============================] - 0s 38us/sample - loss: 0.0069 - mse: 0.0069 - mae: 0.0560 - val_loss: 0.0159 - val_mse: 0.0159 - val_mae: 0.0726\n",
      "Epoch 90/150\n",
      "236/236 [==============================] - 0s 34us/sample - loss: 0.0068 - mse: 0.0068 - mae: 0.0563 - val_loss: 0.0156 - val_mse: 0.0156 - val_mae: 0.0732\n",
      "Epoch 91/150\n",
      "236/236 [==============================] - 0s 38us/sample - loss: 0.0068 - mse: 0.0068 - mae: 0.0565 - val_loss: 0.0157 - val_mse: 0.0157 - val_mae: 0.0728\n",
      "Epoch 92/150\n",
      "236/236 [==============================] - 0s 34us/sample - loss: 0.0068 - mse: 0.0068 - mae: 0.0561 - val_loss: 0.0160 - val_mse: 0.0160 - val_mae: 0.0724\n",
      "Epoch 93/150\n",
      "236/236 [==============================] - 0s 42us/sample - loss: 0.0068 - mse: 0.0068 - mae: 0.0556 - val_loss: 0.0159 - val_mse: 0.0159 - val_mae: 0.0724\n",
      "Epoch 94/150\n",
      "236/236 [==============================] - 0s 42us/sample - loss: 0.0068 - mse: 0.0068 - mae: 0.0556 - val_loss: 0.0157 - val_mse: 0.0157 - val_mae: 0.0727\n",
      "Epoch 95/150\n",
      "236/236 [==============================] - 0s 38us/sample - loss: 0.0068 - mse: 0.0068 - mae: 0.0559 - val_loss: 0.0158 - val_mse: 0.0158 - val_mae: 0.0724\n",
      "Epoch 96/150\n",
      "236/236 [==============================] - 0s 47us/sample - loss: 0.0068 - mse: 0.0068 - mae: 0.0556 - val_loss: 0.0158 - val_mse: 0.0158 - val_mae: 0.0723\n",
      "Epoch 97/150\n"
     ]
    },
    {
     "name": "stdout",
     "output_type": "stream",
     "text": [
      "236/236 [==============================] - 0s 42us/sample - loss: 0.0068 - mse: 0.0068 - mae: 0.0554 - val_loss: 0.0158 - val_mse: 0.0158 - val_mae: 0.0723\n",
      "Epoch 98/150\n",
      "236/236 [==============================] - 0s 51us/sample - loss: 0.0067 - mse: 0.0067 - mae: 0.0552 - val_loss: 0.0159 - val_mse: 0.0159 - val_mae: 0.0721\n",
      "Epoch 99/150\n",
      "236/236 [==============================] - 0s 42us/sample - loss: 0.0067 - mse: 0.0067 - mae: 0.0554 - val_loss: 0.0157 - val_mse: 0.0157 - val_mae: 0.0722\n",
      "Epoch 100/150\n",
      "236/236 [==============================] - 0s 51us/sample - loss: 0.0067 - mse: 0.0067 - mae: 0.0551 - val_loss: 0.0159 - val_mse: 0.0159 - val_mae: 0.0720\n",
      "Epoch 101/150\n",
      "236/236 [==============================] - 0s 55us/sample - loss: 0.0067 - mse: 0.0067 - mae: 0.0549 - val_loss: 0.0157 - val_mse: 0.0157 - val_mae: 0.0721\n",
      "Epoch 102/150\n",
      "236/236 [==============================] - 0s 51us/sample - loss: 0.0067 - mse: 0.0067 - mae: 0.0551 - val_loss: 0.0156 - val_mse: 0.0156 - val_mae: 0.0723\n",
      "Epoch 103/150\n",
      "236/236 [==============================] - 0s 55us/sample - loss: 0.0067 - mse: 0.0067 - mae: 0.0550 - val_loss: 0.0158 - val_mse: 0.0158 - val_mae: 0.0719\n",
      "Epoch 104/150\n",
      "236/236 [==============================] - 0s 59us/sample - loss: 0.0067 - mse: 0.0067 - mae: 0.0545 - val_loss: 0.0159 - val_mse: 0.0159 - val_mae: 0.0718\n",
      "Epoch 105/150\n",
      "236/236 [==============================] - 0s 55us/sample - loss: 0.0067 - mse: 0.0067 - mae: 0.0546 - val_loss: 0.0156 - val_mse: 0.0156 - val_mae: 0.0722\n",
      "Epoch 106/150\n",
      "236/236 [==============================] - 0s 55us/sample - loss: 0.0067 - mse: 0.0067 - mae: 0.0547 - val_loss: 0.0157 - val_mse: 0.0157 - val_mae: 0.0719\n",
      "Epoch 107/150\n",
      "236/236 [==============================] - 0s 51us/sample - loss: 0.0066 - mse: 0.0066 - mae: 0.0544 - val_loss: 0.0159 - val_mse: 0.0159 - val_mae: 0.0718\n",
      "Epoch 108/150\n",
      "236/236 [==============================] - 0s 42us/sample - loss: 0.0066 - mse: 0.0066 - mae: 0.0543 - val_loss: 0.0157 - val_mse: 0.0157 - val_mae: 0.0719\n",
      "Epoch 109/150\n",
      "236/236 [==============================] - 0s 42us/sample - loss: 0.0066 - mse: 0.0066 - mae: 0.0544 - val_loss: 0.0156 - val_mse: 0.0156 - val_mae: 0.0719\n",
      "Epoch 110/150\n",
      "236/236 [==============================] - 0s 42us/sample - loss: 0.0066 - mse: 0.0066 - mae: 0.0542 - val_loss: 0.0158 - val_mse: 0.0158 - val_mae: 0.0718\n",
      "Epoch 111/150\n",
      "236/236 [==============================] - 0s 47us/sample - loss: 0.0066 - mse: 0.0066 - mae: 0.0540 - val_loss: 0.0156 - val_mse: 0.0156 - val_mae: 0.0718\n",
      "Epoch 112/150\n",
      "236/236 [==============================] - 0s 47us/sample - loss: 0.0066 - mse: 0.0066 - mae: 0.0539 - val_loss: 0.0158 - val_mse: 0.0158 - val_mae: 0.0717\n",
      "Epoch 113/150\n",
      "236/236 [==============================] - 0s 42us/sample - loss: 0.0066 - mse: 0.0066 - mae: 0.0543 - val_loss: 0.0155 - val_mse: 0.0155 - val_mae: 0.0719\n",
      "Epoch 114/150\n",
      "236/236 [==============================] - 0s 42us/sample - loss: 0.0066 - mse: 0.0066 - mae: 0.0539 - val_loss: 0.0158 - val_mse: 0.0158 - val_mae: 0.0716\n",
      "Epoch 115/150\n",
      "236/236 [==============================] - 0s 47us/sample - loss: 0.0066 - mse: 0.0066 - mae: 0.0532 - val_loss: 0.0159 - val_mse: 0.0159 - val_mae: 0.0716\n",
      "Epoch 116/150\n",
      "236/236 [==============================] - 0s 42us/sample - loss: 0.0066 - mse: 0.0066 - mae: 0.0535 - val_loss: 0.0155 - val_mse: 0.0155 - val_mae: 0.0718\n",
      "Epoch 117/150\n",
      "236/236 [==============================] - 0s 42us/sample - loss: 0.0066 - mse: 0.0066 - mae: 0.0542 - val_loss: 0.0155 - val_mse: 0.0155 - val_mae: 0.0717\n",
      "Epoch 118/150\n",
      "236/236 [==============================] - 0s 34us/sample - loss: 0.0065 - mse: 0.0065 - mae: 0.0533 - val_loss: 0.0160 - val_mse: 0.0160 - val_mae: 0.0716\n",
      "Epoch 119/150\n",
      "236/236 [==============================] - 0s 42us/sample - loss: 0.0066 - mse: 0.0066 - mae: 0.0530 - val_loss: 0.0158 - val_mse: 0.0158 - val_mae: 0.0715\n",
      "Epoch 120/150\n",
      "236/236 [==============================] - 0s 38us/sample - loss: 0.0065 - mse: 0.0065 - mae: 0.0531 - val_loss: 0.0155 - val_mse: 0.0155 - val_mae: 0.0716\n",
      "Epoch 121/150\n",
      "236/236 [==============================] - 0s 42us/sample - loss: 0.0065 - mse: 0.0065 - mae: 0.0533 - val_loss: 0.0155 - val_mse: 0.0155 - val_mae: 0.0716\n",
      "Epoch 122/150\n",
      "236/236 [==============================] - 0s 38us/sample - loss: 0.0065 - mse: 0.0065 - mae: 0.0535 - val_loss: 0.0156 - val_mse: 0.0156 - val_mae: 0.0716\n",
      "Epoch 123/150\n",
      "236/236 [==============================] - 0s 42us/sample - loss: 0.0065 - mse: 0.0065 - mae: 0.0527 - val_loss: 0.0159 - val_mse: 0.0159 - val_mae: 0.0715\n",
      "Epoch 124/150\n",
      "236/236 [==============================] - 0s 51us/sample - loss: 0.0065 - mse: 0.0065 - mae: 0.0529 - val_loss: 0.0155 - val_mse: 0.0155 - val_mae: 0.0716\n",
      "Epoch 125/150\n",
      "236/236 [==============================] - 0s 51us/sample - loss: 0.0065 - mse: 0.0065 - mae: 0.0530 - val_loss: 0.0155 - val_mse: 0.0155 - val_mae: 0.0716\n",
      "Epoch 126/150\n",
      "236/236 [==============================] - 0s 51us/sample - loss: 0.0065 - mse: 0.0065 - mae: 0.0536 - val_loss: 0.0153 - val_mse: 0.0153 - val_mae: 0.0717\n",
      "Epoch 127/150\n",
      "236/236 [==============================] - 0s 47us/sample - loss: 0.0065 - mse: 0.0065 - mae: 0.0532 - val_loss: 0.0158 - val_mse: 0.0158 - val_mae: 0.0716\n",
      "Epoch 128/150\n",
      "236/236 [==============================] - 0s 47us/sample - loss: 0.0065 - mse: 0.0065 - mae: 0.0529 - val_loss: 0.0155 - val_mse: 0.0155 - val_mae: 0.0715\n",
      "Epoch 129/150\n",
      "236/236 [==============================] - 0s 47us/sample - loss: 0.0065 - mse: 0.0065 - mae: 0.0531 - val_loss: 0.0157 - val_mse: 0.0157 - val_mae: 0.0715\n",
      "Epoch 130/150\n",
      "236/236 [==============================] - 0s 47us/sample - loss: 0.0066 - mse: 0.0066 - mae: 0.0535 - val_loss: 0.0153 - val_mse: 0.0153 - val_mae: 0.0716\n",
      "Epoch 131/150\n",
      "236/236 [==============================] - 0s 38us/sample - loss: 0.0064 - mse: 0.0064 - mae: 0.0529 - val_loss: 0.0157 - val_mse: 0.0157 - val_mae: 0.0715\n",
      "Epoch 132/150\n",
      "236/236 [==============================] - ETA: 0s - loss: 0.0072 - mse: 0.0072 - mae: 0.050 - 0s 51us/sample - loss: 0.0064 - mse: 0.0064 - mae: 0.0523 - val_loss: 0.0157 - val_mse: 0.0157 - val_mae: 0.0714\n",
      "Epoch 133/150\n",
      "236/236 [==============================] - 0s 55us/sample - loss: 0.0064 - mse: 0.0064 - mae: 0.0521 - val_loss: 0.0155 - val_mse: 0.0155 - val_mae: 0.0714\n",
      "Epoch 134/150\n",
      "236/236 [==============================] - 0s 51us/sample - loss: 0.0064 - mse: 0.0064 - mae: 0.0527 - val_loss: 0.0153 - val_mse: 0.0153 - val_mae: 0.0716\n",
      "Epoch 135/150\n",
      "236/236 [==============================] - 0s 47us/sample - loss: 0.0064 - mse: 0.0064 - mae: 0.0525 - val_loss: 0.0157 - val_mse: 0.0157 - val_mae: 0.0714\n",
      "Epoch 136/150\n",
      "236/236 [==============================] - 0s 38us/sample - loss: 0.0064 - mse: 0.0064 - mae: 0.0518 - val_loss: 0.0156 - val_mse: 0.0156 - val_mae: 0.0714\n",
      "Epoch 137/150\n",
      "236/236 [==============================] - 0s 38us/sample - loss: 0.0064 - mse: 0.0064 - mae: 0.0520 - val_loss: 0.0153 - val_mse: 0.0153 - val_mae: 0.0716\n",
      "Epoch 138/150\n",
      "236/236 [==============================] - 0s 42us/sample - loss: 0.0064 - mse: 0.0064 - mae: 0.0524 - val_loss: 0.0155 - val_mse: 0.0155 - val_mae: 0.0714\n",
      "Epoch 139/150\n",
      "236/236 [==============================] - 0s 34us/sample - loss: 0.0064 - mse: 0.0064 - mae: 0.0519 - val_loss: 0.0156 - val_mse: 0.0156 - val_mae: 0.0714\n",
      "Epoch 140/150\n",
      "236/236 [==============================] - 0s 38us/sample - loss: 0.0064 - mse: 0.0064 - mae: 0.0519 - val_loss: 0.0156 - val_mse: 0.0156 - val_mae: 0.0713\n",
      "Epoch 141/150\n",
      "236/236 [==============================] - 0s 38us/sample - loss: 0.0064 - mse: 0.0064 - mae: 0.0521 - val_loss: 0.0153 - val_mse: 0.0153 - val_mae: 0.0715\n",
      "Epoch 142/150\n",
      "236/236 [==============================] - 0s 38us/sample - loss: 0.0064 - mse: 0.0064 - mae: 0.0524 - val_loss: 0.0154 - val_mse: 0.0154 - val_mae: 0.0714\n",
      "Epoch 143/150\n",
      "236/236 [==============================] - 0s 38us/sample - loss: 0.0065 - mse: 0.0065 - mae: 0.0517 - val_loss: 0.0158 - val_mse: 0.0158 - val_mae: 0.0714\n",
      "Epoch 144/150\n",
      "236/236 [==============================] - 0s 42us/sample - loss: 0.0065 - mse: 0.0065 - mae: 0.0529 - val_loss: 0.0151 - val_mse: 0.0151 - val_mae: 0.0717\n"
     ]
    },
    {
     "name": "stdout",
     "output_type": "stream",
     "text": [
      "Epoch 145/150\n",
      "236/236 [==============================] - 0s 42us/sample - loss: 0.0064 - mse: 0.0064 - mae: 0.0524 - val_loss: 0.0155 - val_mse: 0.0155 - val_mae: 0.0713\n",
      "Epoch 146/150\n",
      "236/236 [==============================] - 0s 42us/sample - loss: 0.0064 - mse: 0.0064 - mae: 0.0516 - val_loss: 0.0156 - val_mse: 0.0156 - val_mae: 0.0713\n",
      "Epoch 147/150\n",
      "236/236 [==============================] - 0s 34us/sample - loss: 0.0064 - mse: 0.0064 - mae: 0.0520 - val_loss: 0.0152 - val_mse: 0.0152 - val_mae: 0.0714\n",
      "Epoch 148/150\n",
      "236/236 [==============================] - 0s 42us/sample - loss: 0.0063 - mse: 0.0063 - mae: 0.0520 - val_loss: 0.0153 - val_mse: 0.0153 - val_mae: 0.0713\n",
      "Epoch 149/150\n",
      "236/236 [==============================] - 0s 42us/sample - loss: 0.0063 - mse: 0.0063 - mae: 0.0519 - val_loss: 0.0153 - val_mse: 0.0153 - val_mae: 0.0714\n",
      "Epoch 150/150\n",
      "236/236 [==============================] - 0s 38us/sample - loss: 0.0063 - mse: 0.0063 - mae: 0.0518 - val_loss: 0.0154 - val_mse: 0.0154 - val_mae: 0.0712\n"
     ]
    }
   ],
   "source": [
    "#fitting model\n",
    "start_time = time.time()\n",
    "history = model.fit(X_train, y_train, epochs=150, batch_size=50,  verbose=1, validation_split=0.2)\n",
    "end_time = time.time()\n",
    "ANN_time = end_time - start_time"
   ]
  },
  {
   "cell_type": "code",
   "execution_count": 18,
   "metadata": {},
   "outputs": [
    {
     "data": {
      "image/png": "[encoded data removed]",
      "text/plain": [
       "<IPython.core.display.Image object>"
      ]
     },
     "execution_count": 18,
     "metadata": {},
     "output_type": "execute_result"
    }
   ],
   "source": [
    "from tensorflow.keras.utils import plot_model\n",
    "#Vizualize Model\n",
    "plot_model(model, to_file='ANN_model.png')"
   ]
  },
  {
   "cell_type": "code",
   "execution_count": 19,
   "metadata": {},
   "outputs": [
    {
     "name": "stdout",
     "output_type": "stream",
     "text": [
      "dict_keys(['loss', 'mse', 'mae', 'val_loss', 'val_mse', 'val_mae'])\n"
     ]
    },
    {
     "data": {
      "image/png": "[encoded data removed]",
      "text/plain": [
       "<Figure size 432x288 with 1 Axes>"
      ]
     },
     "metadata": {
      "needs_background": "light"
     },
     "output_type": "display_data"
    }
   ],
   "source": [
    "print(history.history.keys())\n",
    "# plotting loss function with epoch\n",
    "plt.plot(history.history['loss'])\n",
    "plt.plot(history.history['val_loss'])\n",
    "plt.title('model loss')\n",
    "plt.ylabel('loss')\n",
    "plt.xlabel('epoch')\n",
    "plt.legend(['train', 'validation'], loc='upper left')\n",
    "plt.show()"
   ]
  },
  {
   "cell_type": "code",
   "execution_count": 20,
   "metadata": {},
   "outputs": [
    {
     "name": "stdout",
     "output_type": "stream",
     "text": [
      "Scaled MSE: 0.010102761786307174\n",
      "MSE: 4.041104650585807\n",
      "Runtime: 2.5698482990264893 seconds\n"
     ]
    }
   ],
   "source": [
    "y_pred = model.predict(X_test)\n",
    "\n",
    "MSE_scaled = mean_squared_error(y_test, y_pred)\n",
    "\n",
    "MSE = mean_squared_error(scaler_y.inverse_transform(y_test), scaler_y.inverse_transform(y_pred)) \n",
    "\n",
    "print(\"Scaled MSE:\",MSE_scaled)\n",
    "print(\"MSE:\",MSE)\n",
    "print(\"Runtime: %s seconds\"%ANN_time)"
   ]
  },
  {
   "cell_type": "markdown",
   "metadata": {},
   "source": [
    "<h3>2. Multiple Linear Regression Model</h3>"
   ]
  },
  {
   "cell_type": "code",
   "execution_count": 21,
   "metadata": {},
   "outputs": [],
   "source": [
    "#import libraries \n",
    "\n",
    "%matplotlib inline\n",
    "\n",
    "from statsmodels.compat import lzip\n",
    "\n",
    "import numpy as np\n",
    "import pandas as pd\n",
    "import statsmodels.formula.api as smf\n",
    "import statsmodels.api as sm\n",
    "import statsmodels.stats.api as sms\n",
    "import matplotlib.pyplot as plt"
   ]
  },
  {
   "cell_type": "code",
   "execution_count": 22,
   "metadata": {},
   "outputs": [],
   "source": [
    "#importing data\n",
    "df = pd.read_csv('data/school_grades.csv')\n",
    "\n",
    "#making copy to work with\n",
    "df_copy = df.copy()\n",
    "\n",
    "X = df_copy.drop(['G3'], axis=1)\n",
    "y = df_copy[\"G3\"]\n",
    "\n",
    "#splitting training and testing sets\n",
    "X_train, X_test, y_train, y_test = train_test_split(X, y, test_size=0.3) # 70% training and 30% test"
   ]
  },
  {
   "cell_type": "code",
   "execution_count": 23,
   "metadata": {},
   "outputs": [
    {
     "name": "stdout",
     "output_type": "stream",
     "text": [
      "                            OLS Regression Results                            \n",
      "==============================================================================\n",
      "Dep. Variable:                     G3   R-squared:                       0.814\n",
      "Model:                            OLS   Adj. R-squared:                  0.811\n",
      "Method:                 Least Squares   F-statistic:                     296.9\n",
      "Date:                Fri, 28 Feb 2020   Prob (F-statistic):           1.01e-97\n",
      "Time:                        09:42:54   Log-Likelihood:                -582.12\n",
      "No. Observations:                 276   AIC:                             1174.\n",
      "Df Residuals:                     271   BIC:                             1192.\n",
      "Df Model:                           4                                         \n",
      "Covariance Type:            nonrobust                                         \n",
      "==============================================================================\n",
      "                 coef    std err          t      P>|t|      [0.025      0.975]\n",
      "------------------------------------------------------------------------------\n",
      "Intercept     -0.2026      1.746     -0.116      0.908      -3.641       3.236\n",
      "age           -0.1274      0.099     -1.293      0.197      -0.321       0.067\n",
      "absences       0.0479      0.016      2.945      0.004       0.016       0.080\n",
      "G1             0.2153      0.072      2.986      0.003       0.073       0.357\n",
      "G2             0.9408      0.064     14.603      0.000       0.814       1.068\n",
      "==============================================================================\n",
      "Omnibus:                      147.175   Durbin-Watson:                   1.793\n",
      "Prob(Omnibus):                  0.000   Jarque-Bera (JB):              709.878\n",
      "Skew:                          -2.255   Prob(JB):                    7.11e-155\n",
      "Kurtosis:                       9.433   Cond. No.                         341.\n",
      "==============================================================================\n",
      "\n",
      "Warnings:\n",
      "[1] Standard Errors assume that the covariance matrix of the errors is correctly specified.\n"
     ]
    }
   ],
   "source": [
    "# Fit regression model\n",
    "start_time = time.time()\n",
    "results = smf.ols('G3 ~ age + absences + G1 + G2', data=pd.concat([X_train,y_train], axis=1)).fit()\n",
    "end_time = time.time()\n",
    "MLR_time = end_time - start_time\n",
    "# Inspect the results\n",
    "print(results.summary())"
   ]
  },
  {
   "cell_type": "code",
   "execution_count": 24,
   "metadata": {},
   "outputs": [
    {
     "name": "stdout",
     "output_type": "stream",
     "text": [
      "MSE: 2.741382565073031\n",
      "Runtime: 0.5291106700897217 seconds\n"
     ]
    }
   ],
   "source": [
    "y_pred = results.predict(X_test)\n",
    "\n",
    "MSE = mean_squared_error(y_test, y_pred) \n",
    "\n",
    "print(\"MSE:\",MSE)\n",
    "print(\"Runtime: %s seconds\"%MLR_time)"
   ]
  }
 ],
 "metadata": {
  "kernelspec": {
   "display_name": "Python 3.6 (tensorflow)",
   "language": "python",
   "name": "tensorflow"
  },
  "language_info": {
   "codemirror_mode": {
    "name": "ipython",
    "version": 3
   },
   "file_extension": ".py",
   "mimetype": "text/x-python",
   "name": "python",
   "nbconvert_exporter": "python",
   "pygments_lexer": "ipython3",
   "version": "3.6.10"
  }
 },
 "nbformat": 4,
 "nbformat_minor": 2
}
