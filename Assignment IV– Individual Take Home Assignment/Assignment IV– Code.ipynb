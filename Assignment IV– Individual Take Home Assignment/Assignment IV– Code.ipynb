{
 "cells": [
  {
   "cell_type": "markdown",
   "metadata": {},
   "source": [
    "<h1>Assignment IV– Individual Take Home Assignment</h1>"
   ]
  },
  {
   "cell_type": "markdown",
   "metadata": {},
   "source": [
    "<h3>1. ANN regression model</h3>"
   ]
  },
  {
   "cell_type": "code",
   "execution_count": 30,
   "metadata": {},
   "outputs": [],
   "source": [
    "#import libraries \n",
    "\n",
    "import numpy as np\n",
    "import pandas as pd\n",
    "\n",
    "from sklearn.model_selection import train_test_split\n",
    "from sklearn.model_selection import cross_val_score\n",
    "from sklearn.model_selection import KFold\n",
    "from sklearn.pipeline import Pipeline\n",
    "from sklearn.preprocessing import MinMaxScaler\n",
    "from sklearn.metrics import mean_squared_error\n",
    "\n",
    "from tensorflow.python.keras.models import Sequential\n",
    "from tensorflow.python.keras.layers import Dense\n",
    "from tensorflow.python.keras.wrappers.scikit_learn import KerasRegressor\n",
    "\n",
    "import matplotlib.pyplot as plt\n",
    "import seaborn as sns\n",
    "%matplotlib inline\n",
    "\n",
    "import time"
   ]
  },
  {
   "cell_type": "code",
   "execution_count": 31,
   "metadata": {},
   "outputs": [
    {
     "name": "stdout",
     "output_type": "stream",
     "text": [
      "MinMaxScaler(copy=True, feature_range=(0, 1))\n",
      "MinMaxScaler(copy=True, feature_range=(0, 1))\n"
     ]
    }
   ],
   "source": [
    "#Import Variables & standardize\n",
    "dataset=np.loadtxt(\"data/school_grades.csv\", delimiter=\",\", skiprows=1)\n",
    "x=dataset[:,0:4]\n",
    "y=dataset[:,4]\n",
    "y=np.reshape(y, (-1,1))\n",
    "scaler_x = MinMaxScaler()\n",
    "scaler_y = MinMaxScaler()\n",
    "print(scaler_x.fit(x))\n",
    "xscale=scaler_x.transform(x)\n",
    "print(scaler_y.fit(y))\n",
    "yscale=scaler_y.transform(y)"
   ]
  },
  {
   "cell_type": "code",
   "execution_count": 32,
   "metadata": {},
   "outputs": [],
   "source": [
    "#Split data into train & test\n",
    "X_train, X_test, y_train, y_test = train_test_split(xscale, yscale)"
   ]
  },
  {
   "cell_type": "code",
   "execution_count": 33,
   "metadata": {},
   "outputs": [
    {
     "name": "stdout",
     "output_type": "stream",
     "text": [
      "Model: \"sequential_2\"\n",
      "_________________________________________________________________\n",
      "Layer (type)                 Output Shape              Param #   \n",
      "=================================================================\n",
      "dense_6 (Dense)              (None, 12)                60        \n",
      "_________________________________________________________________\n",
      "dense_7 (Dense)              (None, 8)                 104       \n",
      "_________________________________________________________________\n",
      "dense_8 (Dense)              (None, 1)                 9         \n",
      "=================================================================\n",
      "Total params: 173\n",
      "Trainable params: 173\n",
      "Non-trainable params: 0\n",
      "_________________________________________________________________\n"
     ]
    }
   ],
   "source": [
    "#defining a 3 layer deep NN [12,8,1]\n",
    "model = Sequential()\n",
    "model.add(Dense(12, input_dim=4, kernel_initializer='normal', activation='relu'))\n",
    "model.add(Dense(8, activation='relu'))\n",
    "model.add(Dense(1, activation='linear'))\n",
    "model.summary()"
   ]
  },
  {
   "cell_type": "code",
   "execution_count": 34,
   "metadata": {},
   "outputs": [],
   "source": [
    "#The mean_squared_error (mse) and mean_absolute_error (mae) are our loss functions – i.e. an estimate of how accurate the neural network is in predicting the test data. \n",
    "model.compile(loss='mse', optimizer='adam', metrics=['mse','mae'])"
   ]
  },
  {
   "cell_type": "code",
   "execution_count": 35,
   "metadata": {},
   "outputs": [
    {
     "name": "stdout",
     "output_type": "stream",
     "text": [
      "Train on 236 samples, validate on 60 samples\n",
      "Epoch 1/150\n",
      "236/236 [==============================] - 0s 852us/sample - loss: 0.3438 - mse: 0.3438 - mae: 0.5399 - val_loss: 0.3271 - val_mse: 0.3271 - val_mae: 0.5129\n",
      "Epoch 2/150\n",
      "236/236 [==============================] - 0s 83us/sample - loss: 0.3161 - mse: 0.3161 - mae: 0.5153 - val_loss: 0.3055 - val_mse: 0.3055 - val_mae: 0.4949\n",
      "Epoch 3/150\n",
      "236/236 [==============================] - 0s 47us/sample - loss: 0.3003 - mse: 0.3003 - mae: 0.5027 - val_loss: 0.2965 - val_mse: 0.2965 - val_mae: 0.4882\n",
      "Epoch 4/150\n",
      "236/236 [==============================] - 0s 42us/sample - loss: 0.2932 - mse: 0.2932 - mae: 0.4968 - val_loss: 0.2892 - val_mse: 0.2892 - val_mae: 0.4823\n",
      "Epoch 5/150\n",
      "236/236 [==============================] - 0s 42us/sample - loss: 0.2853 - mse: 0.2853 - mae: 0.4903 - val_loss: 0.2802 - val_mse: 0.2802 - val_mae: 0.4749\n",
      "Epoch 6/150\n",
      "236/236 [==============================] - 0s 42us/sample - loss: 0.2748 - mse: 0.2748 - mae: 0.4814 - val_loss: 0.2688 - val_mse: 0.2688 - val_mae: 0.4653\n",
      "Epoch 7/150\n",
      "236/236 [==============================] - 0s 55us/sample - loss: 0.2622 - mse: 0.2622 - mae: 0.4705 - val_loss: 0.2558 - val_mse: 0.2558 - val_mae: 0.4542\n",
      "Epoch 8/150\n",
      "236/236 [==============================] - 0s 38us/sample - loss: 0.2488 - mse: 0.2488 - mae: 0.4586 - val_loss: 0.2428 - val_mse: 0.2428 - val_mae: 0.4427\n",
      "Epoch 9/150\n",
      "236/236 [==============================] - 0s 38us/sample - loss: 0.2361 - mse: 0.2361 - mae: 0.4469 - val_loss: 0.2302 - val_mse: 0.2302 - val_mae: 0.4313\n",
      "Epoch 10/150\n",
      "236/236 [==============================] - 0s 47us/sample - loss: 0.2230 - mse: 0.2230 - mae: 0.4345 - val_loss: 0.2169 - val_mse: 0.2169 - val_mae: 0.4189\n",
      "Epoch 11/150\n",
      "236/236 [==============================] - 0s 42us/sample - loss: 0.2094 - mse: 0.2094 - mae: 0.4213 - val_loss: 0.2036 - val_mse: 0.2036 - val_mae: 0.4060\n",
      "Epoch 12/150\n",
      "236/236 [==============================] - 0s 42us/sample - loss: 0.1958 - mse: 0.1958 - mae: 0.4077 - val_loss: 0.1901 - val_mse: 0.1901 - val_mae: 0.3923\n",
      "Epoch 13/150\n",
      "236/236 [==============================] - 0s 38us/sample - loss: 0.1821 - mse: 0.1821 - mae: 0.3930 - val_loss: 0.1763 - val_mse: 0.1763 - val_mae: 0.3776\n",
      "Epoch 14/150\n",
      "236/236 [==============================] - 0s 42us/sample - loss: 0.1680 - mse: 0.1680 - mae: 0.3772 - val_loss: 0.1624 - val_mse: 0.1624 - val_mae: 0.3620\n",
      "Epoch 15/150\n",
      "236/236 [==============================] - 0s 38us/sample - loss: 0.1539 - mse: 0.1539 - mae: 0.3608 - val_loss: 0.1485 - val_mse: 0.1485 - val_mae: 0.3456\n",
      "Epoch 16/150\n",
      "236/236 [==============================] - 0s 38us/sample - loss: 0.1401 - mse: 0.1401 - mae: 0.3436 - val_loss: 0.1348 - val_mse: 0.1348 - val_mae: 0.3283\n",
      "Epoch 17/150\n",
      "236/236 [==============================] - 0s 42us/sample - loss: 0.1260 - mse: 0.1260 - mae: 0.3253 - val_loss: 0.1216 - val_mse: 0.1216 - val_mae: 0.3103\n",
      "Epoch 18/150\n",
      "236/236 [==============================] - 0s 42us/sample - loss: 0.1127 - mse: 0.1127 - mae: 0.3067 - val_loss: 0.1088 - val_mse: 0.1088 - val_mae: 0.2915\n",
      "Epoch 19/150\n",
      "236/236 [==============================] - 0s 47us/sample - loss: 0.1001 - mse: 0.1001 - mae: 0.2871 - val_loss: 0.0966 - val_mse: 0.0966 - val_mae: 0.2724\n",
      "Epoch 20/150\n",
      "236/236 [==============================] - 0s 38us/sample - loss: 0.0877 - mse: 0.0877 - mae: 0.2669 - val_loss: 0.0854 - val_mse: 0.0854 - val_mae: 0.2534\n",
      "Epoch 21/150\n",
      "236/236 [==============================] - 0s 42us/sample - loss: 0.0769 - mse: 0.0769 - mae: 0.2470 - val_loss: 0.0752 - val_mse: 0.0752 - val_mae: 0.2343\n",
      "Epoch 22/150\n",
      "236/236 [==============================] - 0s 38us/sample - loss: 0.0669 - mse: 0.0669 - mae: 0.2275 - val_loss: 0.0663 - val_mse: 0.0663 - val_mae: 0.2171\n",
      "Epoch 23/150\n",
      "236/236 [==============================] - 0s 38us/sample - loss: 0.0579 - mse: 0.0579 - mae: 0.2092 - val_loss: 0.0588 - val_mse: 0.0588 - val_mae: 0.2015\n",
      "Epoch 24/150\n",
      "236/236 [==============================] - 0s 42us/sample - loss: 0.0506 - mse: 0.0506 - mae: 0.1916 - val_loss: 0.0525 - val_mse: 0.0525 - val_mae: 0.1864\n",
      "Epoch 25/150\n",
      "236/236 [==============================] - 0s 42us/sample - loss: 0.0440 - mse: 0.0440 - mae: 0.1757 - val_loss: 0.0475 - val_mse: 0.0475 - val_mae: 0.1744\n",
      "Epoch 26/150\n",
      "236/236 [==============================] - 0s 38us/sample - loss: 0.0391 - mse: 0.0391 - mae: 0.1614 - val_loss: 0.0436 - val_mse: 0.0436 - val_mae: 0.1642\n",
      "Epoch 27/150\n",
      "236/236 [==============================] - 0s 42us/sample - loss: 0.0354 - mse: 0.0354 - mae: 0.1502 - val_loss: 0.0406 - val_mse: 0.0406 - val_mae: 0.1565\n",
      "Epoch 28/150\n",
      "236/236 [==============================] - 0s 47us/sample - loss: 0.0326 - mse: 0.0326 - mae: 0.1406 - val_loss: 0.0385 - val_mse: 0.0385 - val_mae: 0.1511\n",
      "Epoch 29/150\n",
      "236/236 [==============================] - 0s 42us/sample - loss: 0.0304 - mse: 0.0304 - mae: 0.1320 - val_loss: 0.0369 - val_mse: 0.0369 - val_mae: 0.1476\n",
      "Epoch 30/150\n",
      "236/236 [==============================] - 0s 42us/sample - loss: 0.0288 - mse: 0.0288 - mae: 0.1256 - val_loss: 0.0357 - val_mse: 0.0357 - val_mae: 0.1446\n",
      "Epoch 31/150\n",
      "236/236 [==============================] - 0s 38us/sample - loss: 0.0276 - mse: 0.0276 - mae: 0.1208 - val_loss: 0.0346 - val_mse: 0.0346 - val_mae: 0.1418\n",
      "Epoch 32/150\n",
      "236/236 [==============================] - 0s 34us/sample - loss: 0.0266 - mse: 0.0266 - mae: 0.1175 - val_loss: 0.0337 - val_mse: 0.0337 - val_mae: 0.1392\n",
      "Epoch 33/150\n",
      "236/236 [==============================] - 0s 38us/sample - loss: 0.0258 - mse: 0.0258 - mae: 0.1146 - val_loss: 0.0328 - val_mse: 0.0328 - val_mae: 0.1367\n",
      "Epoch 34/150\n",
      "236/236 [==============================] - 0s 42us/sample - loss: 0.0250 - mse: 0.0250 - mae: 0.1119 - val_loss: 0.0319 - val_mse: 0.0319 - val_mae: 0.1342\n",
      "Epoch 35/150\n",
      "236/236 [==============================] - 0s 42us/sample - loss: 0.0243 - mse: 0.0243 - mae: 0.1095 - val_loss: 0.0311 - val_mse: 0.0311 - val_mae: 0.1317\n",
      "Epoch 36/150\n",
      "236/236 [==============================] - 0s 51us/sample - loss: 0.0236 - mse: 0.0236 - mae: 0.1074 - val_loss: 0.0302 - val_mse: 0.0302 - val_mae: 0.1294\n",
      "Epoch 37/150\n",
      "236/236 [==============================] - 0s 42us/sample - loss: 0.0228 - mse: 0.0228 - mae: 0.1054 - val_loss: 0.0293 - val_mse: 0.0293 - val_mae: 0.1270\n",
      "Epoch 38/150\n",
      "236/236 [==============================] - 0s 38us/sample - loss: 0.0222 - mse: 0.0222 - mae: 0.1036 - val_loss: 0.0283 - val_mse: 0.0283 - val_mae: 0.1245\n",
      "Epoch 39/150\n",
      "236/236 [==============================] - 0s 38us/sample - loss: 0.0215 - mse: 0.0215 - mae: 0.1015 - val_loss: 0.0275 - val_mse: 0.0275 - val_mae: 0.1220\n",
      "Epoch 40/150\n",
      "236/236 [==============================] - 0s 42us/sample - loss: 0.0208 - mse: 0.0208 - mae: 0.0994 - val_loss: 0.0266 - val_mse: 0.0266 - val_mae: 0.1194\n",
      "Epoch 41/150\n",
      "236/236 [==============================] - 0s 34us/sample - loss: 0.0200 - mse: 0.0200 - mae: 0.0971 - val_loss: 0.0258 - val_mse: 0.0258 - val_mae: 0.1168\n",
      "Epoch 42/150\n",
      "236/236 [==============================] - 0s 38us/sample - loss: 0.0193 - mse: 0.0193 - mae: 0.0949 - val_loss: 0.0250 - val_mse: 0.0250 - val_mae: 0.1144\n",
      "Epoch 43/150\n",
      "236/236 [==============================] - 0s 34us/sample - loss: 0.0186 - mse: 0.0186 - mae: 0.0931 - val_loss: 0.0241 - val_mse: 0.0241 - val_mae: 0.1120\n",
      "Epoch 44/150\n",
      "236/236 [==============================] - 0s 34us/sample - loss: 0.0180 - mse: 0.0180 - mae: 0.0917 - val_loss: 0.0231 - val_mse: 0.0231 - val_mae: 0.1097\n",
      "Epoch 45/150\n",
      "236/236 [==============================] - 0s 38us/sample - loss: 0.0173 - mse: 0.0173 - mae: 0.0898 - val_loss: 0.0221 - val_mse: 0.0221 - val_mae: 0.1062\n",
      "Epoch 46/150\n",
      "236/236 [==============================] - 0s 38us/sample - loss: 0.0164 - mse: 0.0164 - mae: 0.0871 - val_loss: 0.0208 - val_mse: 0.0208 - val_mae: 0.1021\n",
      "Epoch 47/150\n",
      "236/236 [==============================] - 0s 34us/sample - loss: 0.0156 - mse: 0.0156 - mae: 0.0847 - val_loss: 0.0198 - val_mse: 0.0198 - val_mae: 0.0998\n",
      "Epoch 48/150\n",
      "236/236 [==============================] - 0s 38us/sample - loss: 0.0149 - mse: 0.0149 - mae: 0.0834 - val_loss: 0.0191 - val_mse: 0.0191 - val_mae: 0.0976\n",
      "Epoch 49/150\n"
     ]
    },
    {
     "name": "stdout",
     "output_type": "stream",
     "text": [
      "236/236 [==============================] - 0s 34us/sample - loss: 0.0144 - mse: 0.0144 - mae: 0.0817 - val_loss: 0.0184 - val_mse: 0.0184 - val_mae: 0.0954\n",
      "Epoch 50/150\n",
      "236/236 [==============================] - 0s 38us/sample - loss: 0.0139 - mse: 0.0139 - mae: 0.0796 - val_loss: 0.0178 - val_mse: 0.0178 - val_mae: 0.0927\n",
      "Epoch 51/150\n",
      "236/236 [==============================] - 0s 38us/sample - loss: 0.0134 - mse: 0.0134 - mae: 0.0776 - val_loss: 0.0172 - val_mse: 0.0172 - val_mae: 0.0904\n",
      "Epoch 52/150\n",
      "236/236 [==============================] - 0s 34us/sample - loss: 0.0130 - mse: 0.0130 - mae: 0.0759 - val_loss: 0.0167 - val_mse: 0.0167 - val_mae: 0.0885\n",
      "Epoch 53/150\n",
      "236/236 [==============================] - 0s 38us/sample - loss: 0.0126 - mse: 0.0126 - mae: 0.0745 - val_loss: 0.0161 - val_mse: 0.0161 - val_mae: 0.0871\n",
      "Epoch 54/150\n",
      "236/236 [==============================] - 0s 38us/sample - loss: 0.0122 - mse: 0.0122 - mae: 0.0735 - val_loss: 0.0156 - val_mse: 0.0156 - val_mae: 0.0861\n",
      "Epoch 55/150\n",
      "236/236 [==============================] - 0s 34us/sample - loss: 0.0119 - mse: 0.0119 - mae: 0.0727 - val_loss: 0.0151 - val_mse: 0.0151 - val_mae: 0.0855\n",
      "Epoch 56/150\n",
      "236/236 [==============================] - 0s 38us/sample - loss: 0.0115 - mse: 0.0115 - mae: 0.0718 - val_loss: 0.0147 - val_mse: 0.0147 - val_mae: 0.0840\n",
      "Epoch 57/150\n",
      "236/236 [==============================] - 0s 38us/sample - loss: 0.0113 - mse: 0.0113 - mae: 0.0705 - val_loss: 0.0143 - val_mse: 0.0143 - val_mae: 0.0827\n",
      "Epoch 58/150\n",
      "236/236 [==============================] - 0s 47us/sample - loss: 0.0110 - mse: 0.0110 - mae: 0.0691 - val_loss: 0.0140 - val_mse: 0.0140 - val_mae: 0.0812\n",
      "Epoch 59/150\n",
      "236/236 [==============================] - 0s 47us/sample - loss: 0.0107 - mse: 0.0107 - mae: 0.0676 - val_loss: 0.0137 - val_mse: 0.0137 - val_mae: 0.0802\n",
      "Epoch 60/150\n",
      "236/236 [==============================] - 0s 38us/sample - loss: 0.0105 - mse: 0.0105 - mae: 0.0670 - val_loss: 0.0133 - val_mse: 0.0133 - val_mae: 0.0797\n",
      "Epoch 61/150\n",
      "236/236 [==============================] - 0s 38us/sample - loss: 0.0103 - mse: 0.0103 - mae: 0.0666 - val_loss: 0.0130 - val_mse: 0.0130 - val_mae: 0.0785\n",
      "Epoch 62/150\n",
      "236/236 [==============================] - 0s 34us/sample - loss: 0.0101 - mse: 0.0101 - mae: 0.0654 - val_loss: 0.0127 - val_mse: 0.0127 - val_mae: 0.0771\n",
      "Epoch 63/150\n",
      "236/236 [==============================] - 0s 38us/sample - loss: 0.0100 - mse: 0.0100 - mae: 0.0649 - val_loss: 0.0124 - val_mse: 0.0124 - val_mae: 0.0766\n",
      "Epoch 64/150\n",
      "236/236 [==============================] - 0s 38us/sample - loss: 0.0098 - mse: 0.0098 - mae: 0.0641 - val_loss: 0.0122 - val_mse: 0.0122 - val_mae: 0.0754\n",
      "Epoch 65/150\n",
      "236/236 [==============================] - 0s 38us/sample - loss: 0.0097 - mse: 0.0097 - mae: 0.0636 - val_loss: 0.0120 - val_mse: 0.0120 - val_mae: 0.0749\n",
      "Epoch 66/150\n",
      "236/236 [==============================] - 0s 38us/sample - loss: 0.0097 - mse: 0.0097 - mae: 0.0632 - val_loss: 0.0119 - val_mse: 0.0119 - val_mae: 0.0743\n",
      "Epoch 67/150\n",
      "236/236 [==============================] - 0s 38us/sample - loss: 0.0096 - mse: 0.0096 - mae: 0.0626 - val_loss: 0.0118 - val_mse: 0.0118 - val_mae: 0.0739\n",
      "Epoch 68/150\n",
      "236/236 [==============================] - 0s 38us/sample - loss: 0.0095 - mse: 0.0095 - mae: 0.0624 - val_loss: 0.0116 - val_mse: 0.0116 - val_mae: 0.0741\n",
      "Epoch 69/150\n",
      "236/236 [==============================] - 0s 34us/sample - loss: 0.0094 - mse: 0.0094 - mae: 0.0625 - val_loss: 0.0115 - val_mse: 0.0115 - val_mae: 0.0739\n",
      "Epoch 70/150\n",
      "236/236 [==============================] - 0s 38us/sample - loss: 0.0094 - mse: 0.0094 - mae: 0.0622 - val_loss: 0.0114 - val_mse: 0.0114 - val_mae: 0.0734\n",
      "Epoch 71/150\n",
      "236/236 [==============================] - 0s 38us/sample - loss: 0.0093 - mse: 0.0093 - mae: 0.0616 - val_loss: 0.0114 - val_mse: 0.0114 - val_mae: 0.0729\n",
      "Epoch 72/150\n",
      "236/236 [==============================] - ETA: 0s - loss: 0.0095 - mse: 0.0095 - mae: 0.060 - 0s 38us/sample - loss: 0.0093 - mse: 0.0093 - mae: 0.0618 - val_loss: 0.0113 - val_mse: 0.0113 - val_mae: 0.0734\n",
      "Epoch 73/150\n",
      "236/236 [==============================] - 0s 34us/sample - loss: 0.0092 - mse: 0.0092 - mae: 0.0619 - val_loss: 0.0112 - val_mse: 0.0112 - val_mae: 0.0730\n",
      "Epoch 74/150\n",
      "236/236 [==============================] - 0s 34us/sample - loss: 0.0092 - mse: 0.0092 - mae: 0.0614 - val_loss: 0.0112 - val_mse: 0.0112 - val_mae: 0.0725\n",
      "Epoch 75/150\n",
      "236/236 [==============================] - 0s 38us/sample - loss: 0.0092 - mse: 0.0092 - mae: 0.0611 - val_loss: 0.0112 - val_mse: 0.0112 - val_mae: 0.0724\n",
      "Epoch 76/150\n",
      "236/236 [==============================] - 0s 34us/sample - loss: 0.0091 - mse: 0.0091 - mae: 0.0608 - val_loss: 0.0112 - val_mse: 0.0112 - val_mae: 0.0720\n",
      "Epoch 77/150\n",
      "236/236 [==============================] - 0s 34us/sample - loss: 0.0091 - mse: 0.0091 - mae: 0.0607 - val_loss: 0.0111 - val_mse: 0.0111 - val_mae: 0.0722\n",
      "Epoch 78/150\n",
      "236/236 [==============================] - 0s 42us/sample - loss: 0.0091 - mse: 0.0091 - mae: 0.0609 - val_loss: 0.0110 - val_mse: 0.0110 - val_mae: 0.0723\n",
      "Epoch 79/150\n",
      "236/236 [==============================] - 0s 42us/sample - loss: 0.0090 - mse: 0.0090 - mae: 0.0608 - val_loss: 0.0110 - val_mse: 0.0110 - val_mae: 0.0721\n",
      "Epoch 80/150\n",
      "236/236 [==============================] - 0s 38us/sample - loss: 0.0090 - mse: 0.0090 - mae: 0.0606 - val_loss: 0.0109 - val_mse: 0.0109 - val_mae: 0.0721\n",
      "Epoch 81/150\n",
      "236/236 [==============================] - 0s 34us/sample - loss: 0.0090 - mse: 0.0090 - mae: 0.0605 - val_loss: 0.0109 - val_mse: 0.0109 - val_mae: 0.0718\n",
      "Epoch 82/150\n",
      "236/236 [==============================] - 0s 38us/sample - loss: 0.0090 - mse: 0.0090 - mae: 0.0607 - val_loss: 0.0108 - val_mse: 0.0108 - val_mae: 0.0719\n",
      "Epoch 83/150\n",
      "236/236 [==============================] - 0s 38us/sample - loss: 0.0089 - mse: 0.0089 - mae: 0.0606 - val_loss: 0.0108 - val_mse: 0.0108 - val_mae: 0.0716\n",
      "Epoch 84/150\n",
      "236/236 [==============================] - 0s 34us/sample - loss: 0.0089 - mse: 0.0089 - mae: 0.0605 - val_loss: 0.0107 - val_mse: 0.0107 - val_mae: 0.0716\n",
      "Epoch 85/150\n",
      "236/236 [==============================] - 0s 38us/sample - loss: 0.0089 - mse: 0.0089 - mae: 0.0603 - val_loss: 0.0108 - val_mse: 0.0108 - val_mae: 0.0712\n",
      "Epoch 86/150\n",
      "236/236 [==============================] - 0s 38us/sample - loss: 0.0089 - mse: 0.0089 - mae: 0.0602 - val_loss: 0.0107 - val_mse: 0.0107 - val_mae: 0.0712\n",
      "Epoch 87/150\n",
      "236/236 [==============================] - 0s 34us/sample - loss: 0.0089 - mse: 0.0089 - mae: 0.0600 - val_loss: 0.0107 - val_mse: 0.0107 - val_mae: 0.0710\n",
      "Epoch 88/150\n",
      "236/236 [==============================] - 0s 38us/sample - loss: 0.0089 - mse: 0.0089 - mae: 0.0598 - val_loss: 0.0107 - val_mse: 0.0107 - val_mae: 0.0708\n",
      "Epoch 89/150\n",
      "236/236 [==============================] - 0s 38us/sample - loss: 0.0088 - mse: 0.0088 - mae: 0.0597 - val_loss: 0.0107 - val_mse: 0.0107 - val_mae: 0.0708\n",
      "Epoch 90/150\n",
      "236/236 [==============================] - 0s 38us/sample - loss: 0.0088 - mse: 0.0088 - mae: 0.0600 - val_loss: 0.0106 - val_mse: 0.0106 - val_mae: 0.0710\n",
      "Epoch 91/150\n",
      "236/236 [==============================] - 0s 38us/sample - loss: 0.0088 - mse: 0.0088 - mae: 0.0602 - val_loss: 0.0106 - val_mse: 0.0106 - val_mae: 0.0709\n",
      "Epoch 92/150\n",
      "236/236 [==============================] - 0s 38us/sample - loss: 0.0088 - mse: 0.0088 - mae: 0.0599 - val_loss: 0.0107 - val_mse: 0.0107 - val_mae: 0.0704\n",
      "Epoch 93/150\n",
      "236/236 [==============================] - 0s 42us/sample - loss: 0.0088 - mse: 0.0088 - mae: 0.0596 - val_loss: 0.0106 - val_mse: 0.0106 - val_mae: 0.0703\n",
      "Epoch 94/150\n",
      "236/236 [==============================] - 0s 38us/sample - loss: 0.0088 - mse: 0.0088 - mae: 0.0595 - val_loss: 0.0107 - val_mse: 0.0107 - val_mae: 0.0701\n",
      "Epoch 95/150\n",
      "236/236 [==============================] - 0s 38us/sample - loss: 0.0088 - mse: 0.0088 - mae: 0.0597 - val_loss: 0.0105 - val_mse: 0.0105 - val_mae: 0.0706\n",
      "Epoch 96/150\n",
      "236/236 [==============================] - 0s 38us/sample - loss: 0.0088 - mse: 0.0088 - mae: 0.0597 - val_loss: 0.0106 - val_mse: 0.0106 - val_mae: 0.0701\n",
      "Epoch 97/150\n"
     ]
    },
    {
     "name": "stdout",
     "output_type": "stream",
     "text": [
      "236/236 [==============================] - 0s 38us/sample - loss: 0.0087 - mse: 0.0087 - mae: 0.0596 - val_loss: 0.0106 - val_mse: 0.0106 - val_mae: 0.0701\n",
      "Epoch 98/150\n",
      "236/236 [==============================] - 0s 38us/sample - loss: 0.0087 - mse: 0.0087 - mae: 0.0594 - val_loss: 0.0106 - val_mse: 0.0106 - val_mae: 0.0699\n",
      "Epoch 99/150\n",
      "236/236 [==============================] - 0s 38us/sample - loss: 0.0087 - mse: 0.0087 - mae: 0.0595 - val_loss: 0.0105 - val_mse: 0.0105 - val_mae: 0.0700\n",
      "Epoch 100/150\n",
      "236/236 [==============================] - 0s 34us/sample - loss: 0.0087 - mse: 0.0087 - mae: 0.0596 - val_loss: 0.0105 - val_mse: 0.0105 - val_mae: 0.0699\n",
      "Epoch 101/150\n",
      "236/236 [==============================] - 0s 38us/sample - loss: 0.0087 - mse: 0.0087 - mae: 0.0595 - val_loss: 0.0105 - val_mse: 0.0105 - val_mae: 0.0695\n",
      "Epoch 102/150\n",
      "236/236 [==============================] - 0s 38us/sample - loss: 0.0087 - mse: 0.0087 - mae: 0.0589 - val_loss: 0.0106 - val_mse: 0.0106 - val_mae: 0.0693\n",
      "Epoch 103/150\n",
      "236/236 [==============================] - 0s 38us/sample - loss: 0.0087 - mse: 0.0087 - mae: 0.0587 - val_loss: 0.0106 - val_mse: 0.0106 - val_mae: 0.0693\n",
      "Epoch 104/150\n",
      "236/236 [==============================] - 0s 42us/sample - loss: 0.0087 - mse: 0.0087 - mae: 0.0589 - val_loss: 0.0104 - val_mse: 0.0104 - val_mae: 0.0698\n",
      "Epoch 105/150\n",
      "236/236 [==============================] - 0s 38us/sample - loss: 0.0087 - mse: 0.0087 - mae: 0.0601 - val_loss: 0.0103 - val_mse: 0.0103 - val_mae: 0.0699\n",
      "Epoch 106/150\n",
      "236/236 [==============================] - 0s 34us/sample - loss: 0.0087 - mse: 0.0087 - mae: 0.0598 - val_loss: 0.0105 - val_mse: 0.0105 - val_mae: 0.0693\n",
      "Epoch 107/150\n",
      "236/236 [==============================] - 0s 38us/sample - loss: 0.0087 - mse: 0.0087 - mae: 0.0592 - val_loss: 0.0105 - val_mse: 0.0105 - val_mae: 0.0692\n",
      "Epoch 108/150\n",
      "236/236 [==============================] - 0s 38us/sample - loss: 0.0087 - mse: 0.0087 - mae: 0.0586 - val_loss: 0.0106 - val_mse: 0.0106 - val_mae: 0.0690\n",
      "Epoch 109/150\n",
      "236/236 [==============================] - 0s 38us/sample - loss: 0.0087 - mse: 0.0087 - mae: 0.0586 - val_loss: 0.0105 - val_mse: 0.0105 - val_mae: 0.0691\n",
      "Epoch 110/150\n",
      "236/236 [==============================] - 0s 38us/sample - loss: 0.0087 - mse: 0.0087 - mae: 0.0584 - val_loss: 0.0106 - val_mse: 0.0106 - val_mae: 0.0688\n",
      "Epoch 111/150\n",
      "236/236 [==============================] - 0s 42us/sample - loss: 0.0087 - mse: 0.0087 - mae: 0.0586 - val_loss: 0.0104 - val_mse: 0.0104 - val_mae: 0.0692\n",
      "Epoch 112/150\n",
      "236/236 [==============================] - 0s 38us/sample - loss: 0.0086 - mse: 0.0086 - mae: 0.0589 - val_loss: 0.0105 - val_mse: 0.0105 - val_mae: 0.0691\n",
      "Epoch 113/150\n",
      "236/236 [==============================] - 0s 38us/sample - loss: 0.0086 - mse: 0.0086 - mae: 0.0586 - val_loss: 0.0105 - val_mse: 0.0105 - val_mae: 0.0689\n",
      "Epoch 114/150\n",
      "236/236 [==============================] - 0s 38us/sample - loss: 0.0086 - mse: 0.0086 - mae: 0.0583 - val_loss: 0.0105 - val_mse: 0.0105 - val_mae: 0.0688\n",
      "Epoch 115/150\n",
      "236/236 [==============================] - 0s 38us/sample - loss: 0.0086 - mse: 0.0086 - mae: 0.0587 - val_loss: 0.0104 - val_mse: 0.0104 - val_mae: 0.0690\n",
      "Epoch 116/150\n",
      "236/236 [==============================] - 0s 38us/sample - loss: 0.0086 - mse: 0.0086 - mae: 0.0588 - val_loss: 0.0105 - val_mse: 0.0105 - val_mae: 0.0689\n",
      "Epoch 117/150\n",
      "236/236 [==============================] - 0s 42us/sample - loss: 0.0086 - mse: 0.0086 - mae: 0.0584 - val_loss: 0.0105 - val_mse: 0.0105 - val_mae: 0.0687\n",
      "Epoch 118/150\n",
      "236/236 [==============================] - 0s 38us/sample - loss: 0.0086 - mse: 0.0086 - mae: 0.0584 - val_loss: 0.0104 - val_mse: 0.0104 - val_mae: 0.0688\n",
      "Epoch 119/150\n",
      "236/236 [==============================] - 0s 38us/sample - loss: 0.0086 - mse: 0.0086 - mae: 0.0586 - val_loss: 0.0104 - val_mse: 0.0104 - val_mae: 0.0688\n",
      "Epoch 120/150\n",
      "236/236 [==============================] - 0s 38us/sample - loss: 0.0086 - mse: 0.0086 - mae: 0.0583 - val_loss: 0.0105 - val_mse: 0.0105 - val_mae: 0.0686\n",
      "Epoch 121/150\n",
      "236/236 [==============================] - 0s 38us/sample - loss: 0.0086 - mse: 0.0086 - mae: 0.0583 - val_loss: 0.0104 - val_mse: 0.0104 - val_mae: 0.0687\n",
      "Epoch 122/150\n",
      "236/236 [==============================] - 0s 38us/sample - loss: 0.0086 - mse: 0.0086 - mae: 0.0586 - val_loss: 0.0104 - val_mse: 0.0104 - val_mae: 0.0688\n",
      "Epoch 123/150\n",
      "236/236 [==============================] - 0s 34us/sample - loss: 0.0086 - mse: 0.0086 - mae: 0.0583 - val_loss: 0.0104 - val_mse: 0.0104 - val_mae: 0.0686\n",
      "Epoch 124/150\n",
      "236/236 [==============================] - 0s 42us/sample - loss: 0.0086 - mse: 0.0086 - mae: 0.0580 - val_loss: 0.0104 - val_mse: 0.0104 - val_mae: 0.0686\n",
      "Epoch 125/150\n",
      "236/236 [==============================] - 0s 38us/sample - loss: 0.0086 - mse: 0.0086 - mae: 0.0582 - val_loss: 0.0104 - val_mse: 0.0104 - val_mae: 0.0686\n",
      "Epoch 126/150\n",
      "236/236 [==============================] - 0s 38us/sample - loss: 0.0086 - mse: 0.0086 - mae: 0.0585 - val_loss: 0.0103 - val_mse: 0.0103 - val_mae: 0.0687\n",
      "Epoch 127/150\n",
      "236/236 [==============================] - 0s 38us/sample - loss: 0.0086 - mse: 0.0086 - mae: 0.0585 - val_loss: 0.0104 - val_mse: 0.0104 - val_mae: 0.0685\n",
      "Epoch 128/150\n",
      "236/236 [==============================] - 0s 59us/sample - loss: 0.0085 - mse: 0.0085 - mae: 0.0579 - val_loss: 0.0104 - val_mse: 0.0104 - val_mae: 0.0684\n",
      "Epoch 129/150\n",
      "236/236 [==============================] - 0s 42us/sample - loss: 0.0086 - mse: 0.0086 - mae: 0.0576 - val_loss: 0.0105 - val_mse: 0.0105 - val_mae: 0.0682\n",
      "Epoch 130/150\n",
      "236/236 [==============================] - 0s 42us/sample - loss: 0.0085 - mse: 0.0085 - mae: 0.0579 - val_loss: 0.0104 - val_mse: 0.0104 - val_mae: 0.0684\n",
      "Epoch 131/150\n",
      "236/236 [==============================] - 0s 38us/sample - loss: 0.0085 - mse: 0.0085 - mae: 0.0580 - val_loss: 0.0104 - val_mse: 0.0104 - val_mae: 0.0683\n",
      "Epoch 132/150\n",
      "236/236 [==============================] - 0s 34us/sample - loss: 0.0085 - mse: 0.0085 - mae: 0.0577 - val_loss: 0.0104 - val_mse: 0.0104 - val_mae: 0.0682\n",
      "Epoch 133/150\n",
      "236/236 [==============================] - 0s 38us/sample - loss: 0.0085 - mse: 0.0085 - mae: 0.0579 - val_loss: 0.0103 - val_mse: 0.0103 - val_mae: 0.0682\n",
      "Epoch 134/150\n",
      "236/236 [==============================] - 0s 38us/sample - loss: 0.0085 - mse: 0.0085 - mae: 0.0580 - val_loss: 0.0103 - val_mse: 0.0103 - val_mae: 0.0682\n",
      "Epoch 135/150\n",
      "236/236 [==============================] - 0s 38us/sample - loss: 0.0085 - mse: 0.0085 - mae: 0.0578 - val_loss: 0.0104 - val_mse: 0.0104 - val_mae: 0.0681\n",
      "Epoch 136/150\n",
      "236/236 [==============================] - 0s 38us/sample - loss: 0.0085 - mse: 0.0085 - mae: 0.0574 - val_loss: 0.0105 - val_mse: 0.0105 - val_mae: 0.0680\n",
      "Epoch 137/150\n",
      "236/236 [==============================] - 0s 34us/sample - loss: 0.0085 - mse: 0.0085 - mae: 0.0572 - val_loss: 0.0104 - val_mse: 0.0104 - val_mae: 0.0680\n",
      "Epoch 138/150\n",
      "236/236 [==============================] - 0s 34us/sample - loss: 0.0085 - mse: 0.0085 - mae: 0.0578 - val_loss: 0.0103 - val_mse: 0.0103 - val_mae: 0.0681\n",
      "Epoch 139/150\n",
      "236/236 [==============================] - 0s 38us/sample - loss: 0.0085 - mse: 0.0085 - mae: 0.0577 - val_loss: 0.0103 - val_mse: 0.0103 - val_mae: 0.0680\n",
      "Epoch 140/150\n",
      "236/236 [==============================] - 0s 34us/sample - loss: 0.0085 - mse: 0.0085 - mae: 0.0578 - val_loss: 0.0103 - val_mse: 0.0103 - val_mae: 0.0679\n",
      "Epoch 141/150\n",
      "236/236 [==============================] - 0s 34us/sample - loss: 0.0085 - mse: 0.0085 - mae: 0.0576 - val_loss: 0.0103 - val_mse: 0.0103 - val_mae: 0.0680\n",
      "Epoch 142/150\n",
      "236/236 [==============================] - 0s 34us/sample - loss: 0.0085 - mse: 0.0085 - mae: 0.0574 - val_loss: 0.0104 - val_mse: 0.0104 - val_mae: 0.0679\n",
      "Epoch 143/150\n",
      "236/236 [==============================] - 0s 38us/sample - loss: 0.0085 - mse: 0.0085 - mae: 0.0577 - val_loss: 0.0103 - val_mse: 0.0103 - val_mae: 0.0681\n",
      "Epoch 144/150\n",
      "236/236 [==============================] - 0s 34us/sample - loss: 0.0085 - mse: 0.0085 - mae: 0.0582 - val_loss: 0.0103 - val_mse: 0.0103 - val_mae: 0.0680\n",
      "Epoch 145/150\n"
     ]
    },
    {
     "name": "stdout",
     "output_type": "stream",
     "text": [
      "236/236 [==============================] - 0s 55us/sample - loss: 0.0085 - mse: 0.0085 - mae: 0.0576 - val_loss: 0.0104 - val_mse: 0.0104 - val_mae: 0.0677\n",
      "Epoch 146/150\n",
      "236/236 [==============================] - 0s 53us/sample - loss: 0.0085 - mse: 0.0085 - mae: 0.0571 - val_loss: 0.0105 - val_mse: 0.0105 - val_mae: 0.0675\n",
      "Epoch 147/150\n",
      "236/236 [==============================] - 0s 30us/sample - loss: 0.0085 - mse: 0.0085 - mae: 0.0570 - val_loss: 0.0103 - val_mse: 0.0103 - val_mae: 0.0679\n",
      "Epoch 148/150\n",
      "236/236 [==============================] - 0s 42us/sample - loss: 0.0085 - mse: 0.0085 - mae: 0.0585 - val_loss: 0.0102 - val_mse: 0.0102 - val_mae: 0.0684\n",
      "Epoch 149/150\n",
      "236/236 [==============================] - 0s 13us/sample - loss: 0.0085 - mse: 0.0085 - mae: 0.0583 - val_loss: 0.0103 - val_mse: 0.0103 - val_mae: 0.0678\n",
      "Epoch 150/150\n",
      "236/236 [==============================] - 0s 51us/sample - loss: 0.0084 - mse: 0.0084 - mae: 0.0572 - val_loss: 0.0104 - val_mse: 0.0104 - val_mae: 0.0676\n"
     ]
    }
   ],
   "source": [
    "#fitting model\n",
    "start_time = time.time()\n",
    "history = model.fit(X_train, y_train, epochs=150, batch_size=50,  verbose=1, validation_split=0.2)\n",
    "end_time = time.time()\n",
    "ANN_time = end_time - start_time"
   ]
  },
  {
   "cell_type": "code",
   "execution_count": 36,
   "metadata": {},
   "outputs": [
    {
     "data": {
      "image/png": "[encoded data removed]",
      "text/plain": [
       "<IPython.core.display.Image object>"
      ]
     },
     "execution_count": 36,
     "metadata": {},
     "output_type": "execute_result"
    }
   ],
   "source": [
    "from tensorflow.keras.utils import plot_model\n",
    "#Vizualize Model\n",
    "plot_model(model, to_file='ANN_model.png', show_shapes=True, show_layer_names=True, expand_nested=True)"
   ]
  },
  {
   "cell_type": "code",
   "execution_count": 37,
   "metadata": {},
   "outputs": [
    {
     "name": "stdout",
     "output_type": "stream",
     "text": [
      "dict_keys(['loss', 'mse', 'mae', 'val_loss', 'val_mse', 'val_mae'])\n"
     ]
    },
    {
     "data": {
      "image/png": "[encoded data removed]",
      "text/plain": [
       "<Figure size 432x288 with 1 Axes>"
      ]
     },
     "metadata": {
      "needs_background": "light"
     },
     "output_type": "display_data"
    }
   ],
   "source": [
    "print(history.history.keys())\n",
    "# plotting loss function with epoch\n",
    "plt.plot(history.history['loss'])\n",
    "plt.plot(history.history['val_loss'])\n",
    "plt.title('model loss')\n",
    "plt.ylabel('loss')\n",
    "plt.xlabel('epoch')\n",
    "plt.legend(['train', 'validation'], loc='upper left')\n",
    "plt.show()"
   ]
  },
  {
   "cell_type": "code",
   "execution_count": 38,
   "metadata": {},
   "outputs": [
    {
     "name": "stdout",
     "output_type": "stream",
     "text": [
      "Scaled MSE: 0.009582817080292176\n",
      "MSE: 3.8331268356480934\n",
      "Runtime: 2.195000648498535 seconds\n"
     ]
    }
   ],
   "source": [
    "y_pred = model.predict(X_test)\n",
    "\n",
    "MSE_scaled = mean_squared_error(y_test, y_pred)\n",
    "\n",
    "MSE = mean_squared_error(scaler_y.inverse_transform(y_test), scaler_y.inverse_transform(y_pred)) \n",
    "\n",
    "print(\"Scaled MSE:\",MSE_scaled)\n",
    "print(\"MSE:\",MSE)\n",
    "print(\"Runtime: %s seconds\"%ANN_time)"
   ]
  },
  {
   "cell_type": "markdown",
   "metadata": {},
   "source": [
    "<h3>2. Multiple Linear Regression Model</h3>"
   ]
  },
  {
   "cell_type": "code",
   "execution_count": 39,
   "metadata": {},
   "outputs": [],
   "source": [
    "#import libraries \n",
    "\n",
    "%matplotlib inline\n",
    "\n",
    "from statsmodels.compat import lzip\n",
    "\n",
    "import numpy as np\n",
    "import pandas as pd\n",
    "import statsmodels.formula.api as smf\n",
    "import statsmodels.api as sm\n",
    "import statsmodels.stats.api as sms\n",
    "import matplotlib.pyplot as plt"
   ]
  },
  {
   "cell_type": "code",
   "execution_count": 40,
   "metadata": {},
   "outputs": [],
   "source": [
    "#importing data\n",
    "df = pd.read_csv('data/school_grades.csv')\n",
    "\n",
    "#making copy to work with\n",
    "df_copy = df.copy()\n",
    "\n",
    "X = df_copy.drop(['G3'], axis=1)\n",
    "y = df_copy[\"G3\"]\n",
    "\n",
    "#splitting training and testing sets\n",
    "X_train, X_test, y_train, y_test = train_test_split(X, y, test_size=0.3) # 70% training and 30% test"
   ]
  },
  {
   "cell_type": "code",
   "execution_count": 41,
   "metadata": {},
   "outputs": [
    {
     "name": "stdout",
     "output_type": "stream",
     "text": [
      "                            OLS Regression Results                            \n",
      "==============================================================================\n",
      "Dep. Variable:                     G3   R-squared:                       0.783\n",
      "Model:                            OLS   Adj. R-squared:                  0.780\n",
      "Method:                 Least Squares   F-statistic:                     245.1\n",
      "Date:                Fri, 28 Feb 2020   Prob (F-statistic):           9.94e-89\n",
      "Time:                        10:30:04   Log-Likelihood:                -600.71\n",
      "No. Observations:                 276   AIC:                             1211.\n",
      "Df Residuals:                     271   BIC:                             1230.\n",
      "Df Model:                           4                                         \n",
      "Covariance Type:            nonrobust                                         \n",
      "==============================================================================\n",
      "                 coef    std err          t      P>|t|      [0.025      0.975]\n",
      "------------------------------------------------------------------------------\n",
      "Intercept      0.7954      1.900      0.419      0.676      -2.944       4.535\n",
      "age           -0.1952      0.109     -1.790      0.075      -0.410       0.019\n",
      "absences       0.0516      0.016      3.162      0.002       0.019       0.084\n",
      "G1             0.1962      0.080      2.445      0.015       0.038       0.354\n",
      "G2             0.9641      0.073     13.160      0.000       0.820       1.108\n",
      "==============================================================================\n",
      "Omnibus:                      132.410   Durbin-Watson:                   1.965\n",
      "Prob(Omnibus):                  0.000   Jarque-Bera (JB):              509.188\n",
      "Skew:                          -2.095   Prob(JB):                    2.70e-111\n",
      "Kurtosis:                       8.170   Cond. No.                         346.\n",
      "==============================================================================\n",
      "\n",
      "Warnings:\n",
      "[1] Standard Errors assume that the covariance matrix of the errors is correctly specified.\n"
     ]
    }
   ],
   "source": [
    "# Fit regression model\n",
    "start_time = time.time()\n",
    "results = smf.ols('G3 ~ age + absences + G1 + G2', data=pd.concat([X_train,y_train], axis=1)).fit()\n",
    "end_time = time.time()\n",
    "MLR_time = end_time - start_time\n",
    "# Inspect the results\n",
    "print(results.summary())"
   ]
  },
  {
   "cell_type": "code",
   "execution_count": 42,
   "metadata": {},
   "outputs": [
    {
     "name": "stdout",
     "output_type": "stream",
     "text": [
      "MSE: 1.4293875205069166\n",
      "Runtime: 0.01698923110961914 seconds\n"
     ]
    }
   ],
   "source": [
    "y_pred = results.predict(X_test)\n",
    "\n",
    "MSE = mean_squared_error(y_test, y_pred) \n",
    "\n",
    "print(\"MSE:\",MSE)\n",
    "print(\"Runtime: %s seconds\"%MLR_time)"
   ]
  }
 ],
 "metadata": {
  "kernelspec": {
   "display_name": "Python 3.6 (tensorflow)",
   "language": "python",
   "name": "tensorflow"
  },
  "language_info": {
   "codemirror_mode": {
    "name": "ipython",
    "version": 3
   },
   "file_extension": ".py",
   "mimetype": "text/x-python",
   "name": "python",
   "nbconvert_exporter": "python",
   "pygments_lexer": "ipython3",
   "version": "3.6.10"
  }
 },
 "nbformat": 4,
 "nbformat_minor": 2
}
